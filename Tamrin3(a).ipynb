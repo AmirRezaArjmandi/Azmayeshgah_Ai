{
 "cells": [
  {
   "cell_type": "code",
   "execution_count": 10,
   "id": "118d560c-6935-48d5-a7b4-7eca3dc367e9",
   "metadata": {},
   "outputs": [],
   "source": [
    "import numpy as np\n",
    "\n",
    "matrix = np.random.rand(1000, 1000)\n",
    "\n",
    "mat = np.zeros((1000, 1000))\n",
    "\n",
    "#print(matrix)\n",
    "#print(mat)"
   ]
  },
  {
   "cell_type": "code",
   "execution_count": 11,
   "id": "98876e89-dd6c-4f4a-9504-f0d16e6516cd",
   "metadata": {},
   "outputs": [
    {
     "data": {
      "text/plain": [
       "array([[0., 0., 0., ..., 0., 0., 0.],\n",
       "       [0., 0., 0., ..., 0., 0., 0.],\n",
       "       [0., 0., 0., ..., 0., 0., 0.],\n",
       "       ...,\n",
       "       [0., 0., 0., ..., 0., 0., 0.],\n",
       "       [0., 0., 0., ..., 0., 0., 0.],\n",
       "       [0., 0., 0., ..., 0., 0., 0.]])"
      ]
     },
     "execution_count": 11,
     "metadata": {},
     "output_type": "execute_result"
    }
   ],
   "source": [
    "mat"
   ]
  },
  {
   "cell_type": "code",
   "execution_count": 13,
   "id": "a7cd3865-65c7-46cb-b217-61c6a9dca9fc",
   "metadata": {},
   "outputs": [
    {
     "data": {
      "text/plain": [
       "array([[0.36180572, 0.57803712, 0.45557923, ..., 0.68722959, 0.71791616,\n",
       "        0.09234258],\n",
       "       [0.65208876, 0.69213318, 0.41333264, ..., 0.35762974, 0.82842583,\n",
       "        0.29141947],\n",
       "       [0.18997646, 0.78517003, 0.73991942, ..., 0.10033259, 0.33332185,\n",
       "        0.22834095],\n",
       "       ...,\n",
       "       [0.16219928, 0.20962431, 0.81063633, ..., 0.62152652, 0.46065279,\n",
       "        0.18612644],\n",
       "       [0.6584834 , 0.96173044, 0.57161998, ..., 0.32933275, 0.69171242,\n",
       "        0.41678103],\n",
       "       [0.33761204, 0.87197397, 0.30425008, ..., 0.1781617 , 0.57438793,\n",
       "        0.48124036]])"
      ]
     },
     "execution_count": 13,
     "metadata": {},
     "output_type": "execute_result"
    }
   ],
   "source": [
    "matrix"
   ]
  }
 ],
 "metadata": {
  "kernelspec": {
   "display_name": "Python 3 (ipykernel)",
   "language": "python",
   "name": "python3"
  },
  "language_info": {
   "codemirror_mode": {
    "name": "ipython",
    "version": 3
   },
   "file_extension": ".py",
   "mimetype": "text/x-python",
   "name": "python",
   "nbconvert_exporter": "python",
   "pygments_lexer": "ipython3",
   "version": "3.10.11"
  }
 },
 "nbformat": 4,
 "nbformat_minor": 5
}
