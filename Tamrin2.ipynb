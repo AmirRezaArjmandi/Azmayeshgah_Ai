{
 "cells": [
  {
   "cell_type": "code",
   "execution_count": 52,
   "id": "bf3ebcd0-3b89-45fb-ad5c-66dc04ef9741",
   "metadata": {},
   "outputs": [
    {
     "name": "stdout",
     "output_type": "stream",
     "text": [
      "*0D*: 85 Dim: 0\n",
      "\n",
      " *1D*: [20 21 22] Dim: 1\n",
      "\n",
      " *2D*: [[30 31 32]\n",
      " [33 34 35]] Dim: 2\n",
      "\n",
      " *3D*: [[[400 401 402]\n",
      "  [403 404 405]\n",
      "  [406 407 408]]] Dim: 3\n"
     ]
    }
   ],
   "source": [
    "import numpy as np\n",
    "a = np.array(85, ndmin = 0)\n",
    "b = np.array([20, 21, 22])\n",
    "c = np.array([[30, 31, 32],[33,34,35]])\n",
    "d = np.array([[[400, 401, 402], [403, 404, 405], [406, 407, 408]]])\n",
    "\n",
    "print(\"*0D*:\", a , \"Dim:\" , a.ndim)\n",
    "print(\"\\n *1D*:\", b , \"Dim:\" , b.ndim)\n",
    "print(\"\\n *2D*:\", c , \"Dim:\" , c.ndim)\n",
    "print(\"\\n *3D*:\", d , \"Dim:\" , d.ndim)"
   ]
  },
  {
   "cell_type": "code",
   "execution_count": null,
   "id": "75ef0a26-dae5-44e5-b467-e198fc5ad012",
   "metadata": {},
   "outputs": [],
   "source": []
  }
 ],
 "metadata": {
  "kernelspec": {
   "display_name": "Python 3 (ipykernel)",
   "language": "python",
   "name": "python3"
  },
  "language_info": {
   "codemirror_mode": {
    "name": "ipython",
    "version": 3
   },
   "file_extension": ".py",
   "mimetype": "text/x-python",
   "name": "python",
   "nbconvert_exporter": "python",
   "pygments_lexer": "ipython3",
   "version": "3.10.11"
  }
 },
 "nbformat": 4,
 "nbformat_minor": 5
}
