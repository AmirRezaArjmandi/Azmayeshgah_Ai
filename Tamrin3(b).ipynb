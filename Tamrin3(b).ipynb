{
 "cells": [
  {
   "cell_type": "code",
   "execution_count": 1,
   "id": "fdf81177-61fc-4cb0-b343-3d03f89c9a92",
   "metadata": {},
   "outputs": [],
   "source": [
    "import numpy as np\n",
    "slise = np.array(range(1,101)).reshape(10,10)"
   ]
  },
  {
   "cell_type": "code",
   "execution_count": 24,
   "id": "168db3b5-b3f4-4777-bac4-136720b35479",
   "metadata": {},
   "outputs": [
    {
     "data": {
      "text/plain": [
       "array([[  1,   2,   3,   4,   5,   6,   7,   8,   9,  10],\n",
       "       [ 11,  12,  13,  14,  15,  16,  17,  18,  19,  20],\n",
       "       [ 21,  22,  23,  24,  25,  26,  27,  28,  29,  30],\n",
       "       [ 31,  32,  33,  34,  35,  36,  37,  38,  39,  40],\n",
       "       [ 41,  42,  43,  44,  45,  46,  47,  48,  49,  50],\n",
       "       [ 51,  52,  53,  54,  55,  56,  57,  58,  59,  60],\n",
       "       [ 61,  62,  63,  64,  65,  66,  67,  68,  69,  70],\n",
       "       [ 71,  72,  73,  74,  75,  76,  77,  78,  79,  80],\n",
       "       [ 81,  82,  83,  84,  85,  86,  87,  88,  89,  90],\n",
       "       [ 91,  92,  93,  94,  95,  96,  97,  98,  99, 100]])"
      ]
     },
     "execution_count": 24,
     "metadata": {},
     "output_type": "execute_result"
    }
   ],
   "source": [
    "slise"
   ]
  },
  {
   "cell_type": "code",
   "execution_count": 26,
   "id": "7a966e1c-296f-4c36-beda-eb0cb044eb27",
   "metadata": {},
   "outputs": [
    {
     "data": {
      "text/plain": [
       "array([[12, 13, 14, 15, 16, 17, 18, 19],\n",
       "       [22, 23, 24, 25, 26, 27, 28, 29],\n",
       "       [32, 33, 34, 35, 36, 37, 38, 39],\n",
       "       [42, 43, 44, 45, 46, 47, 48, 49],\n",
       "       [52, 53, 54, 55, 56, 57, 58, 59],\n",
       "       [62, 63, 64, 65, 66, 67, 68, 69],\n",
       "       [72, 73, 74, 75, 76, 77, 78, 79],\n",
       "       [82, 83, 84, 85, 86, 87, 88, 89]])"
      ]
     },
     "execution_count": 26,
     "metadata": {},
     "output_type": "execute_result"
    }
   ],
   "source": [
    "slise[1:9,1:9]"
   ]
  },
  {
   "cell_type": "code",
   "execution_count": 27,
   "id": "f0778f64-21d3-4e3c-ad39-3105bb15e480",
   "metadata": {},
   "outputs": [
    {
     "data": {
      "text/plain": [
       "array([[23, 24, 25, 26, 27, 28],\n",
       "       [33, 34, 35, 36, 37, 38],\n",
       "       [43, 44, 45, 46, 47, 48],\n",
       "       [53, 54, 55, 56, 57, 58],\n",
       "       [63, 64, 65, 66, 67, 68],\n",
       "       [73, 74, 75, 76, 77, 78]])"
      ]
     },
     "execution_count": 27,
     "metadata": {},
     "output_type": "execute_result"
    }
   ],
   "source": [
    "slise[2:8,2:8]"
   ]
  },
  {
   "cell_type": "code",
   "execution_count": 28,
   "id": "07ae3b79-7b7b-4ff7-aec2-37594a610dec",
   "metadata": {},
   "outputs": [
    {
     "data": {
      "text/plain": [
       "array([[34, 35, 36, 37],\n",
       "       [44, 45, 46, 47],\n",
       "       [54, 55, 56, 57],\n",
       "       [64, 65, 66, 67]])"
      ]
     },
     "execution_count": 28,
     "metadata": {},
     "output_type": "execute_result"
    }
   ],
   "source": [
    "slise[3:7,3:7]"
   ]
  },
  {
   "cell_type": "code",
   "execution_count": 29,
   "id": "6f4612aa-d1ab-47c0-b4e5-4eae56fc20c1",
   "metadata": {},
   "outputs": [
    {
     "data": {
      "text/plain": [
       "array([[45, 46],\n",
       "       [55, 56]])"
      ]
     },
     "execution_count": 29,
     "metadata": {},
     "output_type": "execute_result"
    }
   ],
   "source": [
    "slise[4:6,4:6]"
   ]
  },
  {
   "cell_type": "code",
   "execution_count": 11,
   "id": "0939feda-5b6d-4dc8-8acc-e42fdae38d2b",
   "metadata": {},
   "outputs": [
    {
     "data": {
      "text/plain": [
       "array([[ 1,  2],\n",
       "       [11, 12]])"
      ]
     },
     "execution_count": 11,
     "metadata": {},
     "output_type": "execute_result"
    }
   ],
   "source": [
    "slise[0:2,0:2]"
   ]
  },
  {
   "cell_type": "code",
   "execution_count": 12,
   "id": "9ba6855d-7de8-4f6c-99d7-26af690eddd4",
   "metadata": {},
   "outputs": [
    {
     "data": {
      "text/plain": [
       "array([[ 3,  4],\n",
       "       [13, 14]])"
      ]
     },
     "execution_count": 12,
     "metadata": {},
     "output_type": "execute_result"
    }
   ],
   "source": [
    "slise[0:2,2:4]"
   ]
  },
  {
   "cell_type": "code",
   "execution_count": 30,
   "id": "8daa5bda-78cb-4ec1-b05f-29cbed780fe4",
   "metadata": {},
   "outputs": [
    {
     "data": {
      "text/plain": [
       "array([[ 5,  6],\n",
       "       [15, 16]])"
      ]
     },
     "execution_count": 30,
     "metadata": {},
     "output_type": "execute_result"
    }
   ],
   "source": [
    "slise[0:2,4:6]"
   ]
  },
  {
   "cell_type": "code",
   "execution_count": 31,
   "id": "347573ce-20f2-4029-b6f2-74efaba3deb1",
   "metadata": {},
   "outputs": [
    {
     "data": {
      "text/plain": [
       "array([[ 7,  8],\n",
       "       [17, 18]])"
      ]
     },
     "execution_count": 31,
     "metadata": {},
     "output_type": "execute_result"
    }
   ],
   "source": [
    "slise[0:2,6:8]"
   ]
  },
  {
   "cell_type": "code",
   "execution_count": 62,
   "id": "c774d9d2-b4c9-409a-9076-c6577f3a1c69",
   "metadata": {},
   "outputs": [
    {
     "data": {
      "text/plain": [
       "array([[ 9, 10],\n",
       "       [19, 20]])"
      ]
     },
     "execution_count": 62,
     "metadata": {},
     "output_type": "execute_result"
    }
   ],
   "source": [
    "slise[0:2,8:]"
   ]
  },
  {
   "cell_type": "code",
   "execution_count": 14,
   "id": "6baaca07-ada2-4d60-a213-34c929e6fa9e",
   "metadata": {},
   "outputs": [
    {
     "data": {
      "text/plain": [
       "array([[21, 22],\n",
       "       [31, 32]])"
      ]
     },
     "execution_count": 14,
     "metadata": {},
     "output_type": "execute_result"
    }
   ],
   "source": [
    "slise[2:4,0:2]"
   ]
  },
  {
   "cell_type": "code",
   "execution_count": 15,
   "id": "232d5cdf-c2e3-4b3b-b151-457ecb38f39e",
   "metadata": {},
   "outputs": [
    {
     "data": {
      "text/plain": [
       "array([[23, 24],\n",
       "       [33, 34]])"
      ]
     },
     "execution_count": 15,
     "metadata": {},
     "output_type": "execute_result"
    }
   ],
   "source": [
    "slise[2:4,2:4]"
   ]
  },
  {
   "cell_type": "code",
   "execution_count": 35,
   "id": "4d6a2afd-e3e0-471b-a4da-a0373e9dbb91",
   "metadata": {},
   "outputs": [
    {
     "data": {
      "text/plain": [
       "array([[25, 26],\n",
       "       [35, 36]])"
      ]
     },
     "execution_count": 35,
     "metadata": {},
     "output_type": "execute_result"
    }
   ],
   "source": [
    "slise[2:4,4:6]"
   ]
  },
  {
   "cell_type": "code",
   "execution_count": 36,
   "id": "b42c23d4-3add-4a18-98bd-e918b148e913",
   "metadata": {},
   "outputs": [
    {
     "data": {
      "text/plain": [
       "array([[27, 28],\n",
       "       [37, 38]])"
      ]
     },
     "execution_count": 36,
     "metadata": {},
     "output_type": "execute_result"
    }
   ],
   "source": [
    "slise[2:4,6:8]"
   ]
  },
  {
   "cell_type": "code",
   "execution_count": 61,
   "id": "9eb6935f-7b1c-49b8-a106-4c073bece0f7",
   "metadata": {},
   "outputs": [
    {
     "data": {
      "text/plain": [
       "array([[29, 30],\n",
       "       [39, 40]])"
      ]
     },
     "execution_count": 61,
     "metadata": {},
     "output_type": "execute_result"
    }
   ],
   "source": [
    "slise[2:4,8:]"
   ]
  },
  {
   "cell_type": "code",
   "execution_count": 44,
   "id": "cbaacbf9-72c5-4106-b266-0a7852ddf0d3",
   "metadata": {},
   "outputs": [
    {
     "data": {
      "text/plain": [
       "array([[41, 42],\n",
       "       [51, 52]])"
      ]
     },
     "execution_count": 44,
     "metadata": {},
     "output_type": "execute_result"
    }
   ],
   "source": [
    "slise[4:6,0:2]"
   ]
  },
  {
   "cell_type": "code",
   "execution_count": 45,
   "id": "31b814eb-227e-42e1-91b4-4b8d791bf1e3",
   "metadata": {},
   "outputs": [
    {
     "data": {
      "text/plain": [
       "array([[43, 44],\n",
       "       [53, 54]])"
      ]
     },
     "execution_count": 45,
     "metadata": {},
     "output_type": "execute_result"
    }
   ],
   "source": [
    "slise[4:6,2:4]"
   ]
  },
  {
   "cell_type": "code",
   "execution_count": 46,
   "id": "4657ece3-287f-44ee-af9c-10ff36cc4abc",
   "metadata": {},
   "outputs": [
    {
     "data": {
      "text/plain": [
       "array([[45, 46],\n",
       "       [55, 56]])"
      ]
     },
     "execution_count": 46,
     "metadata": {},
     "output_type": "execute_result"
    }
   ],
   "source": [
    "slise[4:6,4:6]"
   ]
  },
  {
   "cell_type": "code",
   "execution_count": 47,
   "id": "ca6b8588-a298-4949-abab-42f233f1ff64",
   "metadata": {},
   "outputs": [
    {
     "data": {
      "text/plain": [
       "array([[47, 48],\n",
       "       [57, 58]])"
      ]
     },
     "execution_count": 47,
     "metadata": {},
     "output_type": "execute_result"
    }
   ],
   "source": [
    "slise[4:6,6:8]"
   ]
  },
  {
   "cell_type": "code",
   "execution_count": 60,
   "id": "603385a3-bf07-4993-800f-335f2c31f324",
   "metadata": {},
   "outputs": [
    {
     "data": {
      "text/plain": [
       "array([[49, 50],\n",
       "       [59, 60]])"
      ]
     },
     "execution_count": 60,
     "metadata": {},
     "output_type": "execute_result"
    }
   ],
   "source": [
    "slise[4:6,8:]"
   ]
  },
  {
   "cell_type": "code",
   "execution_count": 49,
   "id": "db806c29-60e3-427d-ab4c-408ea0da687a",
   "metadata": {},
   "outputs": [
    {
     "data": {
      "text/plain": [
       "array([[61, 62],\n",
       "       [71, 72]])"
      ]
     },
     "execution_count": 49,
     "metadata": {},
     "output_type": "execute_result"
    }
   ],
   "source": [
    "slise[6:8,0:2]"
   ]
  },
  {
   "cell_type": "code",
   "execution_count": 51,
   "id": "43b9262b-f376-45f0-8229-b541f2f649d0",
   "metadata": {},
   "outputs": [
    {
     "data": {
      "text/plain": [
       "array([[63, 64],\n",
       "       [73, 74]])"
      ]
     },
     "execution_count": 51,
     "metadata": {},
     "output_type": "execute_result"
    }
   ],
   "source": [
    "slise[6:8,2:4]"
   ]
  },
  {
   "cell_type": "code",
   "execution_count": 50,
   "id": "e5473782-c5d9-4aea-a3bd-55b4e652c3df",
   "metadata": {},
   "outputs": [
    {
     "data": {
      "text/plain": [
       "array([[65, 66],\n",
       "       [75, 76]])"
      ]
     },
     "execution_count": 50,
     "metadata": {},
     "output_type": "execute_result"
    }
   ],
   "source": [
    "slise[6:8,4:6]"
   ]
  },
  {
   "cell_type": "code",
   "execution_count": 52,
   "id": "f97ec5ff-1a62-4c79-8d14-52d3753a1bf1",
   "metadata": {},
   "outputs": [
    {
     "data": {
      "text/plain": [
       "array([[67, 68],\n",
       "       [77, 78]])"
      ]
     },
     "execution_count": 52,
     "metadata": {},
     "output_type": "execute_result"
    }
   ],
   "source": [
    "slise[6:8,6:8]"
   ]
  },
  {
   "cell_type": "code",
   "execution_count": 59,
   "id": "fc2d769a-ce73-4d26-bcfd-f21a477cdf25",
   "metadata": {},
   "outputs": [
    {
     "data": {
      "text/plain": [
       "array([[69, 70],\n",
       "       [79, 80]])"
      ]
     },
     "execution_count": 59,
     "metadata": {},
     "output_type": "execute_result"
    }
   ],
   "source": [
    "slise[6:8,8:]"
   ]
  },
  {
   "cell_type": "code",
   "execution_count": 54,
   "id": "b26361fd-3c50-4ced-a041-e19a8262cc2b",
   "metadata": {},
   "outputs": [
    {
     "data": {
      "text/plain": [
       "array([[81, 82],\n",
       "       [91, 92]])"
      ]
     },
     "execution_count": 54,
     "metadata": {},
     "output_type": "execute_result"
    }
   ],
   "source": [
    "slise[8:,0:2]"
   ]
  },
  {
   "cell_type": "code",
   "execution_count": 55,
   "id": "eb7d5ae8-6b8c-4532-9b46-0239895a8840",
   "metadata": {},
   "outputs": [
    {
     "data": {
      "text/plain": [
       "array([[83, 84],\n",
       "       [93, 94]])"
      ]
     },
     "execution_count": 55,
     "metadata": {},
     "output_type": "execute_result"
    }
   ],
   "source": [
    "slise[8:,2:4]"
   ]
  },
  {
   "cell_type": "code",
   "execution_count": 56,
   "id": "ec342d8f-e0d8-4daf-bb49-3b8416bd4bb3",
   "metadata": {},
   "outputs": [
    {
     "data": {
      "text/plain": [
       "array([[85, 86],\n",
       "       [95, 96]])"
      ]
     },
     "execution_count": 56,
     "metadata": {},
     "output_type": "execute_result"
    }
   ],
   "source": [
    "slise[8:,4:6]"
   ]
  },
  {
   "cell_type": "code",
   "execution_count": 57,
   "id": "c7e3fcf1-206b-4da2-a81b-212c663c71bf",
   "metadata": {},
   "outputs": [
    {
     "data": {
      "text/plain": [
       "array([[87, 88],\n",
       "       [97, 98]])"
      ]
     },
     "execution_count": 57,
     "metadata": {},
     "output_type": "execute_result"
    }
   ],
   "source": [
    "slise[8:,6:8]"
   ]
  },
  {
   "cell_type": "code",
   "execution_count": 58,
   "id": "f3c8b6a6-9f3d-4167-92e4-988228ac9df6",
   "metadata": {},
   "outputs": [
    {
     "data": {
      "text/plain": [
       "array([[ 89,  90],\n",
       "       [ 99, 100]])"
      ]
     },
     "execution_count": 58,
     "metadata": {},
     "output_type": "execute_result"
    }
   ],
   "source": [
    "slise[8:,8:]"
   ]
  },
  {
   "cell_type": "code",
   "execution_count": null,
   "id": "e78b2109-a127-4733-a975-ba82829ec06e",
   "metadata": {},
   "outputs": [],
   "source": []
  }
 ],
 "metadata": {
  "kernelspec": {
   "display_name": "Python 3 (ipykernel)",
   "language": "python",
   "name": "python3"
  },
  "language_info": {
   "codemirror_mode": {
    "name": "ipython",
    "version": 3
   },
   "file_extension": ".py",
   "mimetype": "text/x-python",
   "name": "python",
   "nbconvert_exporter": "python",
   "pygments_lexer": "ipython3",
   "version": "3.10.11"
  }
 },
 "nbformat": 4,
 "nbformat_minor": 5
}
