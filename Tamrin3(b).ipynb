{
 "cells": [
  {
   "cell_type": "code",
   "execution_count": 50,
   "id": "fdf81177-61fc-4cb0-b343-3d03f89c9a92",
   "metadata": {},
   "outputs": [],
   "source": [
    "import numpy as np\n",
    "slise = np.array([[1,2,3,4,5,6],[7,8,9,10,11,12],[13,14,15,16,17,18],[19,20,21,22,23,24],[25,26,27,28,29,30],[31,32,33,34,35,36]])"
   ]
  },
  {
   "cell_type": "code",
   "execution_count": 39,
   "id": "168db3b5-b3f4-4777-bac4-136720b35479",
   "metadata": {},
   "outputs": [
    {
     "data": {
      "text/plain": [
       "array([[ 1,  2,  3,  4,  5,  6],\n",
       "       [ 7,  8,  9, 10, 11, 12],\n",
       "       [13, 14, 15, 16, 17, 18],\n",
       "       [19, 20, 21, 22, 23, 24],\n",
       "       [25, 26, 27, 28, 29, 30],\n",
       "       [31, 32, 33, 34, 35, 36]])"
      ]
     },
     "execution_count": 39,
     "metadata": {},
     "output_type": "execute_result"
    }
   ],
   "source": [
    "slise"
   ]
  },
  {
   "cell_type": "code",
   "execution_count": 40,
   "id": "0939feda-5b6d-4dc8-8acc-e42fdae38d2b",
   "metadata": {},
   "outputs": [
    {
     "data": {
      "text/plain": [
       "array([[1, 2],\n",
       "       [7, 8]])"
      ]
     },
     "execution_count": 40,
     "metadata": {},
     "output_type": "execute_result"
    }
   ],
   "source": [
    "slise[0:2,0:2]"
   ]
  },
  {
   "cell_type": "code",
   "execution_count": 41,
   "id": "9ba6855d-7de8-4f6c-99d7-26af690eddd4",
   "metadata": {},
   "outputs": [
    {
     "data": {
      "text/plain": [
       "array([[ 3,  4],\n",
       "       [ 9, 10]])"
      ]
     },
     "execution_count": 41,
     "metadata": {},
     "output_type": "execute_result"
    }
   ],
   "source": [
    "slise[0:2,2:4]"
   ]
  },
  {
   "cell_type": "code",
   "execution_count": 42,
   "id": "8daa5bda-78cb-4ec1-b05f-29cbed780fe4",
   "metadata": {},
   "outputs": [
    {
     "data": {
      "text/plain": [
       "array([[ 5,  6],\n",
       "       [11, 12]])"
      ]
     },
     "execution_count": 42,
     "metadata": {},
     "output_type": "execute_result"
    }
   ],
   "source": [
    "slise[0:2,4:]"
   ]
  },
  {
   "cell_type": "code",
   "execution_count": 44,
   "id": "6baaca07-ada2-4d60-a213-34c929e6fa9e",
   "metadata": {},
   "outputs": [
    {
     "data": {
      "text/plain": [
       "array([[13, 14],\n",
       "       [19, 20]])"
      ]
     },
     "execution_count": 44,
     "metadata": {},
     "output_type": "execute_result"
    }
   ],
   "source": [
    "slise[2:4,0:2]"
   ]
  },
  {
   "cell_type": "code",
   "execution_count": 45,
   "id": "232d5cdf-c2e3-4b3b-b151-457ecb38f39e",
   "metadata": {},
   "outputs": [
    {
     "data": {
      "text/plain": [
       "array([[15, 16],\n",
       "       [21, 22]])"
      ]
     },
     "execution_count": 45,
     "metadata": {},
     "output_type": "execute_result"
    }
   ],
   "source": [
    "slise[2:4,2:4]"
   ]
  },
  {
   "cell_type": "code",
   "execution_count": 46,
   "id": "4d6a2afd-e3e0-471b-a4da-a0373e9dbb91",
   "metadata": {},
   "outputs": [
    {
     "data": {
      "text/plain": [
       "array([[17, 18],\n",
       "       [23, 24]])"
      ]
     },
     "execution_count": 46,
     "metadata": {},
     "output_type": "execute_result"
    }
   ],
   "source": [
    "slise[2:4,4:]"
   ]
  },
  {
   "cell_type": "code",
   "execution_count": 47,
   "id": "419f8309-6e6b-4e3c-9510-551c3dc81212",
   "metadata": {},
   "outputs": [
    {
     "data": {
      "text/plain": [
       "array([[25, 26],\n",
       "       [31, 32]])"
      ]
     },
     "execution_count": 47,
     "metadata": {},
     "output_type": "execute_result"
    }
   ],
   "source": [
    "slise[4:,0:2]"
   ]
  },
  {
   "cell_type": "code",
   "execution_count": 48,
   "id": "0bb0f4e8-57a7-4591-a63a-38c4fc94f66d",
   "metadata": {},
   "outputs": [
    {
     "data": {
      "text/plain": [
       "array([[27, 28],\n",
       "       [33, 34]])"
      ]
     },
     "execution_count": 48,
     "metadata": {},
     "output_type": "execute_result"
    }
   ],
   "source": [
    "slise[4:,2:4]"
   ]
  },
  {
   "cell_type": "code",
   "execution_count": 49,
   "id": "d43889cb-6047-4e80-96d6-6441bc69d307",
   "metadata": {},
   "outputs": [
    {
     "data": {
      "text/plain": [
       "array([[29, 30],\n",
       "       [35, 36]])"
      ]
     },
     "execution_count": 49,
     "metadata": {},
     "output_type": "execute_result"
    }
   ],
   "source": [
    "slise[4:,4:]"
   ]
  },
  {
   "cell_type": "code",
   "execution_count": 55,
   "id": "d44d8af4-19aa-484f-8443-2d982ffefa7b",
   "metadata": {},
   "outputs": [
    {
     "data": {
      "text/plain": [
       "array([[ 8,  9],\n",
       "       [14, 15]])"
      ]
     },
     "execution_count": 55,
     "metadata": {},
     "output_type": "execute_result"
    }
   ],
   "source": [
    "slise[1:3,1:3]"
   ]
  },
  {
   "cell_type": "code",
   "execution_count": 56,
   "id": "35570cdc-d589-4ba3-9674-d89b516d56bb",
   "metadata": {},
   "outputs": [
    {
     "data": {
      "text/plain": [
       "array([[10, 11],\n",
       "       [16, 17]])"
      ]
     },
     "execution_count": 56,
     "metadata": {},
     "output_type": "execute_result"
    }
   ],
   "source": [
    "slise[1:3,3:5]"
   ]
  },
  {
   "cell_type": "code",
   "execution_count": 57,
   "id": "2c723966-aaf7-4059-957e-6769cb34db07",
   "metadata": {},
   "outputs": [
    {
     "data": {
      "text/plain": [
       "array([[20, 21],\n",
       "       [26, 27]])"
      ]
     },
     "execution_count": 57,
     "metadata": {},
     "output_type": "execute_result"
    }
   ],
   "source": [
    "slise[3:5,1:3]"
   ]
  },
  {
   "cell_type": "code",
   "execution_count": 58,
   "id": "dd02ea5e-174a-4a52-9a04-c2f13efc87ca",
   "metadata": {},
   "outputs": [
    {
     "data": {
      "text/plain": [
       "array([[22, 23],\n",
       "       [28, 29]])"
      ]
     },
     "execution_count": 58,
     "metadata": {},
     "output_type": "execute_result"
    }
   ],
   "source": [
    "slise[3:5,3:5]"
   ]
  }
 ],
 "metadata": {
  "kernelspec": {
   "display_name": "Python 3 (ipykernel)",
   "language": "python",
   "name": "python3"
  },
  "language_info": {
   "codemirror_mode": {
    "name": "ipython",
    "version": 3
   },
   "file_extension": ".py",
   "mimetype": "text/x-python",
   "name": "python",
   "nbconvert_exporter": "python",
   "pygments_lexer": "ipython3",
   "version": "3.10.11"
  }
 },
 "nbformat": 4,
 "nbformat_minor": 5
}
